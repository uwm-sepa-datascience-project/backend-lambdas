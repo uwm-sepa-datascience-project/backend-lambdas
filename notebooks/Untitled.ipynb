{
 "cells": [
  {
   "cell_type": "code",
   "execution_count": 1,
   "id": "c3eade3f-8c3e-4583-b9cc-100a54210eea",
   "metadata": {},
   "outputs": [],
   "source": [
    "import requests"
   ]
  },
  {
   "cell_type": "code",
   "execution_count": 2,
   "id": "70c87098-75ed-455e-9768-087593610fb1",
   "metadata": {},
   "outputs": [],
   "source": [
    "import json"
   ]
  },
  {
   "cell_type": "code",
   "execution_count": 6,
   "id": "d6fce48c-4ac7-42ba-89a7-9da7f95254e7",
   "metadata": {},
   "outputs": [],
   "source": [
    "with open(\"/Users/raghuveernaraharisetti/uwm-sepa-datascience/webapp/src/assets/json/studies/ZebraFish.json\") as f:\n",
    "    zf = json.load(f)"
   ]
  },
  {
   "cell_type": "code",
   "execution_count": 33,
   "id": "9744b54e-0104-467e-afd2-69ef218b8297",
   "metadata": {},
   "outputs": [],
   "source": [
    "studyid = \"fe3ffd4f-7b78-44ea-9816-d3d9c0a92fa0\""
   ]
  },
  {
   "cell_type": "code",
   "execution_count": 44,
   "id": "915a330c-00c5-41dc-b291-e7f685a6af0b",
   "metadata": {},
   "outputs": [],
   "source": [
    "url = \"http://localhost:8000/\"\n",
    "data = {\"observations\": []}\n",
    "for endpoint in zf['endpoints']:\n",
    "    data['observations'].append({'name': endpoint['name'], 'studyId': studyid, 'type': 'NORMAL', 'label': endpoint['label'], 'collectionTime': 24})\n",
    "    \n",
    "    "
   ]
  },
  {
   "cell_type": "code",
   "execution_count": 71,
   "id": "25465496-430d-42ed-9718-bdab3729df9a",
   "metadata": {},
   "outputs": [],
   "source": [
    "response = requests.put(url+\"create/observations\", json=data)"
   ]
  },
  {
   "cell_type": "code",
   "execution_count": 72,
   "id": "67c649bb-5706-4428-ad24-a8b44a1cb577",
   "metadata": {},
   "outputs": [
    {
     "data": {
      "text/plain": [
       "'DONE!'"
      ]
     },
     "execution_count": 72,
     "metadata": {},
     "output_type": "execute_result"
    }
   ],
   "source": [
    "response.text"
   ]
  },
  {
   "cell_type": "code",
   "execution_count": 73,
   "id": "c4a00307-3d6a-457b-b57f-84f6a51ea0a6",
   "metadata": {},
   "outputs": [],
   "source": [
    "response = requests.get(url+\"getObservations/\"+studyid)"
   ]
  },
  {
   "cell_type": "code",
   "execution_count": 74,
   "id": "dcc82783-c954-49ee-9f59-91ba5f1f84cc",
   "metadata": {},
   "outputs": [],
   "source": [
    "obids = [item['id'] for item in response.json()]"
   ]
  },
  {
   "cell_type": "code",
   "execution_count": 67,
   "id": "bc692356-4926-4ec8-a488-16e623daf6b0",
   "metadata": {},
   "outputs": [
    {
     "name": "stdout",
     "output_type": "stream",
     "text": [
      "[{'id': '456c4a89-d78c-4fdc-8a76-c3a104ec5b35', 'name': 'UWM'}]\n"
     ]
    }
   ],
   "source": [
    "print(requests.get(url+\"getAllSchools\").json())"
   ]
  },
  {
   "cell_type": "markdown",
   "id": "0fecef53-9653-45c6-a12d-22d94e4144a1",
   "metadata": {},
   "source": [
    "### School Creation"
   ]
  },
  {
   "cell_type": "code",
   "execution_count": 65,
   "id": "4da83406-2c29-4803-9415-eb6565f996df",
   "metadata": {},
   "outputs": [],
   "source": [
    "response = requests.put(url+\"create/school\", json={\"name\":\"UWM\"})"
   ]
  },
  {
   "cell_type": "code",
   "execution_count": 66,
   "id": "804b1765-84e0-4f58-8496-6b4612bc275c",
   "metadata": {},
   "outputs": [
    {
     "data": {
      "text/plain": [
       "'null'"
      ]
     },
     "execution_count": 66,
     "metadata": {},
     "output_type": "execute_result"
    }
   ],
   "source": [
    "response.text"
   ]
  },
  {
   "cell_type": "markdown",
   "id": "bcaa1ca9-cbe3-428b-a01b-8d89d2851289",
   "metadata": {},
   "source": [
    "### Project Creation"
   ]
  },
  {
   "cell_type": "code",
   "execution_count": 100,
   "id": "d60754c8-5759-4ee6-9a7b-ea2ceff7dd0d",
   "metadata": {},
   "outputs": [],
   "source": [
    "data = {\"studyId\": studyid, \"instructorId\": \"e9ba8f7d-41de-47c3-bda9-f2212bc75421\"}\n",
    "groups = [{'name': \"Sample Group\", \"observationIds\": obids}]\n",
    "data['experimentGroups'] = groups"
   ]
  },
  {
   "cell_type": "code",
   "execution_count": 101,
   "id": "38c11097-d4e6-4f0a-906f-d280390c5104",
   "metadata": {},
   "outputs": [],
   "source": [
    "response = requests.put(url+\"create/project\", json=data)"
   ]
  },
  {
   "cell_type": "code",
   "execution_count": 102,
   "id": "409c42bd-2763-4250-85b3-9617991f9a69",
   "metadata": {},
   "outputs": [
    {
     "data": {
      "text/plain": [
       "<Response [200]>"
      ]
     },
     "execution_count": 102,
     "metadata": {},
     "output_type": "execute_result"
    }
   ],
   "source": [
    "response"
   ]
  },
  {
   "cell_type": "code",
   "execution_count": null,
   "id": "6133d377-b42d-4bd0-a2db-094af5e7ac0e",
   "metadata": {},
   "outputs": [],
   "source": []
  }
 ],
 "metadata": {
  "kernelspec": {
   "display_name": "Python 3 (ipykernel)",
   "language": "python",
   "name": "python3"
  },
  "language_info": {
   "codemirror_mode": {
    "name": "ipython",
    "version": 3
   },
   "file_extension": ".py",
   "mimetype": "text/x-python",
   "name": "python",
   "nbconvert_exporter": "python",
   "pygments_lexer": "ipython3",
   "version": "3.8.12"
  }
 },
 "nbformat": 4,
 "nbformat_minor": 5
}
